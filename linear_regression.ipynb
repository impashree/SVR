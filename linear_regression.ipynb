{
  "nbformat": 4,
  "nbformat_minor": 0,
  "metadata": {
    "colab": {
      "provenance": [],
      "authorship_tag": "ABX9TyNPYTAzs1C5v9ZX2ySJpLrZ",
      "include_colab_link": true
    },
    "kernelspec": {
      "name": "python3",
      "display_name": "Python 3"
    },
    "language_info": {
      "name": "python"
    }
  },
  "cells": [
    {
      "cell_type": "markdown",
      "metadata": {
        "id": "view-in-github",
        "colab_type": "text"
      },
      "source": [
        "<a href=\"https://colab.research.google.com/github/impashree/SVR/blob/main/linear_regression.ipynb\" target=\"_parent\"><img src=\"https://colab.research.google.com/assets/colab-badge.svg\" alt=\"Open In Colab\"/></a>"
      ]
    },
    {
      "cell_type": "markdown",
      "source": [
        "importing lib"
      ],
      "metadata": {
        "id": "Shw2EDGDlOLK"
      }
    },
    {
      "cell_type": "code",
      "source": [
        "import pandas as pd\n",
        "import numpy as np\n",
        "import matplotlib.pyplot as plt\n",
        "from sklearn.model_selection import train_test_split"
      ],
      "metadata": {
        "id": "UU2WlqlZlS3J"
      },
      "execution_count": 15,
      "outputs": []
    },
    {
      "cell_type": "markdown",
      "source": [
        "im"
      ],
      "metadata": {
        "id": "Cj0oqR9csFT0"
      }
    },
    {
      "cell_type": "code",
      "source": [
        "dataset = pd.read_csv('Salary_Data.csv')\n",
        "x=dataset.iloc[:,:-1]\n",
        "y=dataset.iloc[:,-1]\n",
        "print(x)\n",
        "print(y)"
      ],
      "metadata": {
        "colab": {
          "base_uri": "https://localhost:8080/"
        },
        "id": "h3ykL8SMsGxU",
        "outputId": "701c57c4-8bde-485c-d718-3255d773f96d"
      },
      "execution_count": 16,
      "outputs": [
        {
          "output_type": "stream",
          "name": "stdout",
          "text": [
            "    YearsExperience\n",
            "0               1.1\n",
            "1               1.3\n",
            "2               1.5\n",
            "3               2.0\n",
            "4               2.2\n",
            "5               2.9\n",
            "6               3.0\n",
            "7               3.2\n",
            "8               3.2\n",
            "9               3.7\n",
            "10              3.9\n",
            "11              4.0\n",
            "12              4.0\n",
            "13              4.1\n",
            "14              4.5\n",
            "15              4.9\n",
            "16              5.1\n",
            "17              5.3\n",
            "18              5.9\n",
            "19              6.0\n",
            "20              6.8\n",
            "21              7.1\n",
            "22              7.9\n",
            "23              8.2\n",
            "24              8.7\n",
            "25              9.0\n",
            "26              9.5\n",
            "27              9.6\n",
            "28             10.3\n",
            "29             10.5\n",
            "0      39343.0\n",
            "1      46205.0\n",
            "2      37731.0\n",
            "3      43525.0\n",
            "4      39891.0\n",
            "5      56642.0\n",
            "6      60150.0\n",
            "7      54445.0\n",
            "8      64445.0\n",
            "9      57189.0\n",
            "10     63218.0\n",
            "11     55794.0\n",
            "12     56957.0\n",
            "13     57081.0\n",
            "14     61111.0\n",
            "15     67938.0\n",
            "16     66029.0\n",
            "17     83088.0\n",
            "18     81363.0\n",
            "19     93940.0\n",
            "20     91738.0\n",
            "21     98273.0\n",
            "22    101302.0\n",
            "23    113812.0\n",
            "24    109431.0\n",
            "25    105582.0\n",
            "26    116969.0\n",
            "27    112635.0\n",
            "28    122391.0\n",
            "29    121872.0\n",
            "Name: Salary, dtype: float64\n"
          ]
        }
      ]
    },
    {
      "cell_type": "markdown",
      "source": [],
      "metadata": {
        "id": "pW_7sPJqsJhk"
      }
    },
    {
      "cell_type": "code",
      "source": [
        "x_train,x_test,y_train,y_test=train_test_split(x,y,test_size=0.2,random_state=1)\n",
        "print(x_train)\n",
        "print(x_test)\n",
        "print(y_train)\n",
        "print(y_test)"
      ],
      "metadata": {
        "colab": {
          "base_uri": "https://localhost:8080/"
        },
        "id": "HEf_jJJBsJ4F",
        "outputId": "cb2dcb68-73b3-4059-93b5-e3b5e9ff1eb1"
      },
      "execution_count": 17,
      "outputs": [
        {
          "output_type": "stream",
          "name": "stdout",
          "text": [
            "    YearsExperience\n",
            "26              9.5\n",
            "3               2.0\n",
            "24              8.7\n",
            "22              7.9\n",
            "23              8.2\n",
            "4               2.2\n",
            "2               1.5\n",
            "25              9.0\n",
            "6               3.0\n",
            "18              5.9\n",
            "13              4.1\n",
            "7               3.2\n",
            "27              9.6\n",
            "1               1.3\n",
            "16              5.1\n",
            "0               1.1\n",
            "15              4.9\n",
            "29             10.5\n",
            "28             10.3\n",
            "9               3.7\n",
            "8               3.2\n",
            "12              4.0\n",
            "11              4.0\n",
            "5               2.9\n",
            "    YearsExperience\n",
            "17              5.3\n",
            "21              7.1\n",
            "10              3.9\n",
            "19              6.0\n",
            "14              4.5\n",
            "20              6.8\n",
            "26    116969.0\n",
            "3      43525.0\n",
            "24    109431.0\n",
            "22    101302.0\n",
            "23    113812.0\n",
            "4      39891.0\n",
            "2      37731.0\n",
            "25    105582.0\n",
            "6      60150.0\n",
            "18     81363.0\n",
            "13     57081.0\n",
            "7      54445.0\n",
            "27    112635.0\n",
            "1      46205.0\n",
            "16     66029.0\n",
            "0      39343.0\n",
            "15     67938.0\n",
            "29    121872.0\n",
            "28    122391.0\n",
            "9      57189.0\n",
            "8      64445.0\n",
            "12     56957.0\n",
            "11     55794.0\n",
            "5      56642.0\n",
            "Name: Salary, dtype: float64\n",
            "17    83088.0\n",
            "21    98273.0\n",
            "10    63218.0\n",
            "19    93940.0\n",
            "14    61111.0\n",
            "20    91738.0\n",
            "Name: Salary, dtype: float64\n"
          ]
        }
      ]
    },
    {
      "cell_type": "markdown",
      "source": [],
      "metadata": {
        "id": "J7CCEcH7sVGO"
      }
    },
    {
      "cell_type": "code",
      "source": [
        "from sklearn.linear_model import LinearRegression\n",
        "regressor = LinearRegression()\n",
        "regressor.fit(x_train,y_train)"
      ],
      "metadata": {
        "colab": {
          "base_uri": "https://localhost:8080/"
        },
        "id": "sE4N7QtmsVdu",
        "outputId": "152ab940-b76c-487d-eb30-d2857defc224"
      },
      "execution_count": 18,
      "outputs": [
        {
          "output_type": "execute_result",
          "data": {
            "text/plain": [
              "LinearRegression()"
            ]
          },
          "metadata": {},
          "execution_count": 18
        }
      ]
    },
    {
      "cell_type": "markdown",
      "source": [],
      "metadata": {
        "id": "LMIqn1AfssLX"
      }
    },
    {
      "cell_type": "code",
      "source": [
        "ypred=[regressor.predict(x_train)]"
      ],
      "metadata": {
        "id": "O9MTXBPVswC6"
      },
      "execution_count": 19,
      "outputs": []
    },
    {
      "cell_type": "markdown",
      "source": [],
      "metadata": {
        "id": "BS_nZARys5-c"
      }
    },
    {
      "cell_type": "code",
      "source": [
        "ypred=regressor.predict(x_train)"
      ],
      "metadata": {
        "id": "ZKrIZ6XVs6dj"
      },
      "execution_count": 20,
      "outputs": []
    },
    {
      "cell_type": "markdown",
      "source": [],
      "metadata": {
        "id": "7ssverFAtoXh"
      }
    },
    {
      "cell_type": "code",
      "source": [
        "plt.scatter(x_train,y_train,color= 'red')\n",
        "plt.plot(x_train, regressor.predict(x_train), color = 'blue')\n",
        "plt.title('Salary vs Experience (Traning set)')\n",
        "plt.xlabel('Years of Experience')\n",
        "plt.ylabel('Salary')\n",
        "plt.show()"
      ],
      "metadata": {
        "colab": {
          "base_uri": "https://localhost:8080/",
          "height": 295
        },
        "id": "pyTZWwO7tid9",
        "outputId": "369135bf-c492-4b86-fa53-759fea88fbf4"
      },
      "execution_count": 21,
      "outputs": [
        {
          "output_type": "display_data",
          "data": {
            "text/plain": [
              "<Figure size 432x288 with 1 Axes>"
            ],
            "image/png": "[encoded data removed]"
          },
          "metadata": {
            "needs_background": "light"
          }
        }
      ]
    },
    {
      "cell_type": "markdown",
      "source": [],
      "metadata": {
        "id": "2nTGqQkRtsPU"
      }
    },
    {
      "cell_type": "code",
      "source": [
        "plt.scatter(x_test,y_test,color= 'red')\n",
        "plt.plot(x_train, regressor.predict(x_train), color = 'blue')\n",
        "plt.title('Salary vs Experience (Test set)')\n",
        "plt.xlabel('Years of Experience')\n",
        "plt.ylabel('Salary')\n",
        "plt.show()"
      ],
      "metadata": {
        "colab": {
          "base_uri": "https://localhost:8080/",
          "height": 295
        },
        "id": "c2zUZ4U8ts85",
        "outputId": "4ac976d3-9230-439f-e029-ccf7396ed8b5"
      },
      "execution_count": 22,
      "outputs": [
        {
          "output_type": "display_data",
          "data": {
            "text/plain": [
              "<Figure size 432x288 with 1 Axes>"
            ],
            "image/png": "[encoded data removed]"
          },
          "metadata": {
            "needs_background": "light"
          }
        }
      ]
    },
    {
      "cell_type": "markdown",
      "source": [],
      "metadata": {
        "id": "spEW1rHut0zq"
      }
    },
    {
      "cell_type": "code",
      "source": [
        "from sklearn.metrics import mean_absolute_error, mean_squared_error, r2_score\n",
        "\n",
        "y_pred = regressor.predict(x_test)\n",
        "print(\"MAE\", mean_absolute_error(y_test, y_pred))\n",
        "print(\"MSE\", mean_squared_error(y_test, y_pred))\n",
        "print(\"RMSE\", np.sqrt(mean_squared_error(y_test, y_pred)))\n",
        "print(\"MSE\", r2_score(y_test, y_pred))\n",
        "r2 = r2_score(y_test, y_pred)\n",
        "\n"
      ],
      "metadata": {
        "id": "EooF6YTqt2wg",
        "colab": {
          "base_uri": "https://localhost:8080/"
        },
        "outputId": "90b1ddcb-bfe1-454c-ab20-d1d2d94dfd6c"
      },
      "execution_count": 25,
      "outputs": [
        {
          "output_type": "stream",
          "name": "stdout",
          "text": [
            "MAE 6185.994575326634\n",
            "MSE 51338023.49224842\n",
            "RMSE 7165.055721503387\n",
            "MSE 0.7616681465472094\n"
          ]
        }
      ]
    }
  ]
}