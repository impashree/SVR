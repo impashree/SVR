{
  "nbformat": 4,
  "nbformat_minor": 0,
  "metadata": {
    "colab": {
      "provenance": [],
      "authorship_tag": "ABX9TyNAbhFzqPxVPsiCB1I0p3to",
      "include_colab_link": true
    },
    "kernelspec": {
      "name": "python3",
      "display_name": "Python 3"
    },
    "language_info": {
      "name": "python"
    }
  },
  "cells": [
    {
      "cell_type": "markdown",
      "metadata": {
        "id": "view-in-github",
        "colab_type": "text"
      },
      "source": [
        "<a href=\"https://colab.research.google.com/github/impashree/SVR/blob/main/linear_algebra_.ipynb\" target=\"_parent\"><img src=\"https://colab.research.google.com/assets/colab-badge.svg\" alt=\"Open In Colab\"/></a>"
      ]
    },
    {
      "cell_type": "markdown",
      "source": [
        "importing and creating martrix"
      ],
      "metadata": {
        "id": "xrX4ZXoktGyI"
      }
    },
    {
      "cell_type": "code",
      "source": [
        "import numpy as np\n",
        "import numpy.linalg as la\n",
        "\n",
        "a=np.array([[1,2,3],\n",
        "            [3,4,5],\n",
        "            [6,7,8]])\n",
        "b=np.array([[2,3,4],\n",
        "            [5,7,6],\n",
        "            [5,9,7]])\n",
        "print(\"A =\",a)\n",
        "print(\"B =\",b)"
      ],
      "metadata": {
        "colab": {
          "base_uri": "https://localhost:8080/"
        },
        "id": "qPHeUxUktNsy",
        "outputId": "35e89226-d2f5-4f93-e1e8-6d769b36eb0f"
      },
      "execution_count": null,
      "outputs": [
        {
          "output_type": "stream",
          "name": "stdout",
          "text": [
            "A = [[1 2 3]\n",
            " [3 4 5]\n",
            " [6 7 8]]\n",
            "B = [[2 3 4]\n",
            " [5 7 6]\n",
            " [5 9 7]]\n"
          ]
        }
      ]
    },
    {
      "cell_type": "markdown",
      "source": [
        "matrix operations"
      ],
      "metadata": {
        "id": "Y-G5t1iGt8oO"
      }
    },
    {
      "cell_type": "code",
      "source": [
        "c=a+b\n",
        "d=a-b\n",
        "print(\"A+B =\",c)\n",
        "print(\"A-B =\",d)"
      ],
      "metadata": {
        "colab": {
          "base_uri": "https://localhost:8080/"
        },
        "id": "V4kaOzHEuDuP",
        "outputId": "733d620b-ae12-4604-d507-f4826c424a45"
      },
      "execution_count": null,
      "outputs": [
        {
          "output_type": "stream",
          "name": "stdout",
          "text": [
            "A+B = [[ 3  5  7]\n",
            " [ 8 11 11]\n",
            " [11 16 15]]\n",
            "A-B = [[-1 -1 -1]\n",
            " [-2 -3 -1]\n",
            " [ 1 -2  1]]\n"
          ]
        }
      ]
    },
    {
      "cell_type": "markdown",
      "source": [
        "multiplication"
      ],
      "metadata": {
        "id": "9Pebr2SOvJXy"
      }
    },
    {
      "cell_type": "code",
      "source": [
        "c=a.dot(b)\n",
        "print(c)\n",
        "print()\n",
        "c1=np.dot(a,b)\n",
        "print(c1)\n",
        "print()\n",
        "d=np.matmul(a,b)\n",
        "print(d)"
      ],
      "metadata": {
        "id": "nInqebzPvVg7",
        "colab": {
          "base_uri": "https://localhost:8080/"
        },
        "outputId": "61426b07-9514-428f-e83a-240116aeed97"
      },
      "execution_count": null,
      "outputs": [
        {
          "output_type": "stream",
          "name": "stdout",
          "text": [
            "[[ 27  44  37]\n",
            " [ 51  82  71]\n",
            " [ 87 139 122]]\n",
            "\n",
            "[[ 27  44  37]\n",
            " [ 51  82  71]\n",
            " [ 87 139 122]]\n",
            "\n",
            "[[ 27  44  37]\n",
            " [ 51  82  71]\n",
            " [ 87 139 122]]\n"
          ]
        }
      ]
    },
    {
      "cell_type": "markdown",
      "source": [
        "transpose"
      ],
      "metadata": {
        "id": "gGgB-Vp_u863"
      }
    },
    {
      "cell_type": "code",
      "source": [
        "a=np.array([[1,2,3],\n",
        "            [3,4,5],\n",
        "            [6,7,8]])\n",
        "print(a)\n",
        "print()\n",
        "tran=np.transpose(a)\n",
        "print(tran)"
      ],
      "metadata": {
        "colab": {
          "base_uri": "https://localhost:8080/"
        },
        "id": "HfO48wU3MDAp",
        "outputId": "b733a69f-8290-4c4f-9635-2534a8fddba8"
      },
      "execution_count": null,
      "outputs": [
        {
          "output_type": "stream",
          "name": "stdout",
          "text": [
            "[[1 2 3]\n",
            " [3 4 5]\n",
            " [6 7 8]]\n",
            "\n",
            "[[1 3 6]\n",
            " [2 4 7]\n",
            " [3 5 8]]\n"
          ]
        }
      ]
    },
    {
      "cell_type": "markdown",
      "source": [
        "determinate"
      ],
      "metadata": {
        "id": "C-TzypdTMaFr"
      }
    },
    {
      "cell_type": "code",
      "source": [
        "a=np.array([[1,2,3],\n",
        "            [3,4,5],\n",
        "            [6,7,8]])\n",
        "d=la.det(a)\n",
        "print(d)\n",
        "b=np.array([[2,3,4],\n",
        "            [5,7,6],\n",
        "            [5,9,7]])\n",
        "d1=la.det(b)\n",
        "print(d1)"
      ],
      "metadata": {
        "colab": {
          "base_uri": "https://localhost:8080/"
        },
        "id": "u-tbpbSfMn_D",
        "outputId": "8b03ec00-0d79-4d68-db0d-bf3c09cde96c"
      },
      "execution_count": null,
      "outputs": [
        {
          "output_type": "stream",
          "name": "stdout",
          "text": [
            "0.0\n",
            "14.999999999999993\n"
          ]
        }
      ]
    },
    {
      "cell_type": "markdown",
      "source": [
        "inerverse"
      ],
      "metadata": {
        "id": "G-vfnNyENvUO"
      }
    },
    {
      "cell_type": "code",
      "source": [
        "a=np.array([[1,2],\n",
        "            [3,4]])\n",
        "g =la.inv(a)\n",
        "print(g)\n",
        "b=np.array([[2,3,4],\n",
        "            [5,7,6],\n",
        "            [5,9,7]])\n",
        "d1=la.inv(b)\n",
        "print(d1)"
      ],
      "metadata": {
        "colab": {
          "base_uri": "https://localhost:8080/"
        },
        "id": "xiYSZnLxOCB5",
        "outputId": "7ae835d6-7b5b-4861-ae5a-cf1d2d2aadd8"
      },
      "execution_count": null,
      "outputs": [
        {
          "output_type": "stream",
          "name": "stdout",
          "text": [
            "[[-2.   1. ]\n",
            " [ 1.5 -0.5]]\n",
            "[[-0.33333333  1.         -0.66666667]\n",
            " [-0.33333333 -0.4         0.53333333]\n",
            " [ 0.66666667 -0.2        -0.06666667]]\n"
          ]
        }
      ]
    },
    {
      "cell_type": "markdown",
      "source": [
        "eigen"
      ],
      "metadata": {
        "id": "cZsLwtkoPda3"
      }
    },
    {
      "cell_type": "code",
      "source": [
        "a=np.array([[1,2,3],\n",
        "            [3,4,5],\n",
        "            [6,7,8]])\n",
        "ae=la.eig(a)\n",
        "ae, v=la.eig(a)\n",
        "print(ae)\n",
        "print()\n",
        "print(v)"
      ],
      "metadata": {
        "colab": {
          "base_uri": "https://localhost:8080/"
        },
        "id": "GAQ-eISXPfNr",
        "outputId": "95b6d751-ad20-48ff-ffc0-cc1a5cf11e1b"
      },
      "execution_count": null,
      "outputs": [
        {
          "output_type": "stream",
          "name": "stdout",
          "text": [
            "[ 1.40663730e+01 -1.06637298e+00  3.43927949e-17]\n",
            "\n",
            "[[ 0.26564776  0.74442863  0.40824829]\n",
            " [ 0.49120712  0.19070122 -0.81649658]\n",
            " [ 0.82954616 -0.63988988  0.40824829]]\n"
          ]
        }
      ]
    }
  ]
}