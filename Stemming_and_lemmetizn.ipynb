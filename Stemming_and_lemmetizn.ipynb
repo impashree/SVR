{
  "nbformat": 4,
  "nbformat_minor": 0,
  "metadata": {
    "colab": {
      "provenance": [],
      "authorship_tag": "ABX9TyPdLG8gpSeg69VJfnoZhg9w",
      "include_colab_link": true
    },
    "kernelspec": {
      "name": "python3",
      "display_name": "Python 3"
    },
    "language_info": {
      "name": "python"
    }
  },
  "cells": [
    {
      "cell_type": "markdown",
      "metadata": {
        "id": "view-in-github",
        "colab_type": "text"
      },
      "source": [
        "<a href=\"https://colab.research.google.com/github/impashree/SVR/blob/main/Stemming_and_lemmetizn.ipynb\" target=\"_parent\"><img src=\"https://colab.research.google.com/assets/colab-badge.svg\" alt=\"Open In Colab\"/></a>"
      ]
    },
    {
      "cell_type": "code",
      "execution_count": 28,
      "metadata": {
        "colab": {
          "base_uri": "https://localhost:8080/"
        },
        "id": "AHALqqv2xb11",
        "outputId": "7cfd65b0-1f30-4e6d-bc82-a81fb52c3fc3"
      },
      "outputs": [
        {
          "output_type": "stream",
          "name": "stderr",
          "text": [
            "[nltk_data] Downloading package punkt to /root/nltk_data...\n",
            "[nltk_data]   Package punkt is already up-to-date!\n",
            "[nltk_data] Downloading package stopwords to /root/nltk_data...\n",
            "[nltk_data]   Package stopwords is already up-to-date!\n"
          ]
        }
      ],
      "source": [
        "import nltk\n",
        "nltk.download('punkt')\n",
        "nltk.download('stopwords')\n",
        "from nltk.stem import PorterStemmer\n",
        "from nltk.corpus import stopwords\n",
        "\n",
        " \n",
        "paragraph = \"Our Goal is to broaden participation of African-American & Hispanic Students. We invite them to Computer Science learning using voice user interface. View Programs. Read News. See Gallery. Courses: Computer Coding, Programming for Kids, Coding for All\"\n",
        "sentences=nltk.sent_tokenize(paragraph)\n",
        "stemmer=PorterStemmer()"
      ]
    },
    {
      "cell_type": "markdown",
      "source": [
        "Stemming"
      ],
      "metadata": {
        "id": "UugwJpUQx-P0"
      }
    },
    {
      "cell_type": "code",
      "source": [
        "for i in range (len(sentences)):\n",
        "  words=nltk.word_tokenize(sentences[i])\n",
        "  words=[stemmer.stem(word)for word in words if word not in set(stopwords.words('english'))]\n",
        "  sentences [i]=''.join (words)\n",
        "print(sentences)"
      ],
      "metadata": {
        "colab": {
          "base_uri": "https://localhost:8080/"
        },
        "id": "Vc7zFTf8x_vN",
        "outputId": "9e6cbd5f-0583-4fb5-9014-04008c8446ea"
      },
      "execution_count": 29,
      "outputs": [
        {
          "output_type": "stream",
          "name": "stdout",
          "text": [
            "['ourgoalbroadenparticipafrican-american&hispanstudent.', 'weinvitcomputscienclearnusevoicuserinterfac.', 'viewprogram.', 'readnew.', 'seegalleri.', 'cours:computcode,programkid,codeall']\n"
          ]
        }
      ]
    },
    {
      "cell_type": "markdown",
      "source": [
        "lemmatizer"
      ],
      "metadata": {
        "id": "na9r9cGx3VWT"
      }
    },
    {
      "cell_type": "code",
      "source": [
        "import nltk\n",
        "nltk.download('punkt')\n",
        "nltk.download('wordnet')\n",
        "nltk.download('omw-1.4')\n",
        "from nltk.stem import WordNetLemmatizer\n",
        "from nltk.corpus import stopwords"
      ],
      "metadata": {
        "colab": {
          "base_uri": "https://localhost:8080/"
        },
        "id": "VelNR5aA3Y3c",
        "outputId": "7638f041-12ba-469c-a3f8-f1514284aab4"
      },
      "execution_count": 36,
      "outputs": [
        {
          "output_type": "stream",
          "name": "stderr",
          "text": [
            "[nltk_data] Downloading package punkt to /root/nltk_data...\n",
            "[nltk_data]   Package punkt is already up-to-date!\n",
            "[nltk_data] Downloading package wordnet to /root/nltk_data...\n",
            "[nltk_data]   Package wordnet is already up-to-date!\n",
            "[nltk_data] Downloading package omw-1.4 to /root/nltk_data...\n",
            "[nltk_data]   Package omw-1.4 is already up-to-date!\n"
          ]
        }
      ]
    },
    {
      "cell_type": "code",
      "source": [
        "paragraph = \"Our Goal is to broaden participation of African-American & Hispanic Students. We invite them to Computer Science learning using voice user interface. View Programs. Read News. See Gallery. Courses: Computer Coding, Programming for Kids, Coding for All\"\n",
        "sentences=nltk.sent_tokenize(paragraph)\n",
        "lemmatizer=WordNetLemmatizer()\n"
      ],
      "metadata": {
        "id": "O9NkKIVT6vKL"
      },
      "execution_count": 39,
      "outputs": []
    },
    {
      "cell_type": "code",
      "source": [
        "for i in range (len(sentences)):\n",
        "  words=nltk.word_tokenize(sentences[i])\n",
        "  words=[lemmatizer.lemmatize(word)for word in words if word not in set(stopwords.words('english'))]\n",
        "  sentences [i]=''.join (words)\n",
        "print(sentences)"
      ],
      "metadata": {
        "colab": {
          "base_uri": "https://localhost:8080/"
        },
        "id": "bFnzaG9C7Raw",
        "outputId": "39858b32-2b6d-4014-f273-74049a034e99"
      },
      "execution_count": 40,
      "outputs": [
        {
          "output_type": "stream",
          "name": "stdout",
          "text": [
            "['OurGoalbroadenparticipationAfrican-American&HispanicStudents.', 'WeinviteComputerSciencelearningusingvoiceuserinterface.', 'ViewPrograms.', 'ReadNews.', 'SeeGallery.', 'Courses:ComputerCoding,ProgrammingKids,CodingAll']\n"
          ]
        }
      ]
    }
  ]
}